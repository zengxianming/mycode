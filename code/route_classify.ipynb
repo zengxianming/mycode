{
 "cells": [
  {
   "cell_type": "code",
   "execution_count": 2,
   "metadata": {
    "collapsed": true
   },
   "outputs": [],
   "source": [
    "from PIL import Image\n",
    "import matplotlib\n",
    "matplotlib.use('Agg')\n",
    "import numpy as np\n",
    "import math\n",
    "import operator\n",
    "from functools import reduce\n",
    "import pandas as pd\n",
    "import matplotlib.pyplot as plt\n",
    "import cv2\n",
    "import numpy as np\n",
    "from sklearn.cluster import KMeans\n",
    "import os\n",
    "import shutil\n",
    "# % matplotlib inline"
   ]
  },
  {
   "cell_type": "markdown",
   "metadata": {},
   "source": [
    "# 构造路径图片"
   ]
  },
  {
   "cell_type": "code",
   "execution_count": 2,
   "metadata": {
    "collapsed": true
   },
   "outputs": [],
   "source": [
    "# 导入嘉定到四平的原始数据\n",
    "df = pd.read_csv('C:\\\\Users\\\\D\\\\Desktop\\\\banche\\\\lujing\\\\result\\\\2-3.csv', encoding='gbk')\n",
    "# df = pd.read_csv('C:\\\\Users\\\\D\\\\Desktop\\\\banche\\\\lujing\\\\result\\\\3-2.csv', encoding='gbk')"
   ]
  },
  {
   "cell_type": "code",
   "execution_count": 3,
   "metadata": {
    "collapsed": true
   },
   "outputs": [],
   "source": [
    "# 确定画图的经纬度范围\n",
    "x_max = df.longitude.max()\n",
    "x_min = df.longitude.min()\n",
    "y_max = df.latitude.max()\n",
    "y_min = df.latitude.min()"
   ]
  },
  {
   "cell_type": "code",
   "execution_count": 5,
   "metadata": {
    "scrolled": true
   },
   "outputs": [
    {
     "name": "stderr",
     "output_type": "stream",
     "text": [
      "C:\\Users\\D\\AppData\\Local\\Continuum\\Anaconda3\\lib\\site-packages\\matplotlib\\pyplot.py:524: RuntimeWarning: More than 20 figures have been opened. Figures created through the pyplot interface (`matplotlib.pyplot.figure`) are retained until explicitly closed and may consume too much memory. (To control this warning, see the rcParam `figure.max_open_warning`).\n",
      "  max_open_warning, RuntimeWarning)\n"
     ]
    }
   ],
   "source": [
    "# 画图并保存到文件夹\n",
    "for num in df.num.unique():\n",
    "    m = df[df.num==num]\n",
    "    plt.figure(figsize=(8,5))\n",
    "    plt.xlim(x_min * 0.9995, x_max * 1.0001)\n",
    "    plt.ylim(y_min * 0.9995, y_max * 1.0001)\n",
    "    plt.axis('off')\n",
    "    plt.plot(m.longitude,m.latitude,linewidth=20)\n",
    "    plt.savefig('C:\\\\Users\\\\D\\\\Desktop\\\\line32\\\\{}.png'.format(num))"
   ]
  },
  {
   "cell_type": "markdown",
   "metadata": {},
   "source": [
    "# 提取图像特征"
   ]
  },
  {
   "cell_type": "code",
   "execution_count": 4,
   "metadata": {
    "collapsed": true
   },
   "outputs": [],
   "source": [
    "# s = []\n",
    "# for i in range(0,949):\n",
    "#     image1 = Image.open('C:\\\\Users\\\\D\\\\Desktop\\\\line23\\\\{}.png'.format(i))\n",
    "#     image3 = Image.open('C:\\\\Users\\\\D\\\\Desktop\\\\line23\\\\{}.png'.format(i+1))\n",
    "#     #把图像对象转换为直方图数据，存在list h1、h2 中\n",
    "#     h1=image1.histogram()\n",
    "#     h2=image3.histogram()\n",
    "\n",
    "#     result = math.sqrt(reduce(operator.add,  list(map(lambda a,b: (a-b)**2, h1, h2)))/len(h1) )\n",
    "#     '''\n",
    "#     sqrt:计算平方根，reduce函数：前一次调用的结果和sequence的下一个元素传递给operator.add\n",
    "#     operator.add(x,y)对应表达式：x+y\n",
    "#     这个函数是方差的数学公式：S^2= ∑(X-Y) ^2 / (n-1)\n",
    "#     '''\n",
    "#     s.append(result)"
   ]
  },
  {
   "cell_type": "code",
   "execution_count": 20,
   "metadata": {
    "collapsed": true
   },
   "outputs": [],
   "source": [
    "# 方差特征\n",
    "def getss(list):\n",
    "    avg=sum(list)/len(list)\n",
    "    ss=0\n",
    "    for l in list:\n",
    "        ss+=(l-avg)*(l-avg)/len(list)   \n",
    "    return ss\n",
    "\n",
    "# 最值特征\n",
    "def get_minindex(list):\n",
    "    return list.index(min(list))\n",
    "\n",
    "# 像素值横向特征\n",
    "def getdiff(img):\n",
    "    Sidelength=300\n",
    "    img=cv2.resize(img,(Sidelength,Sidelength),interpolation=cv2.INTER_CUBIC)\n",
    "    gray=cv2.cvtColor(img,cv2.COLOR_BGR2GRAY)\n",
    "    avglist=[]\n",
    "    for i in range(Sidelength):\n",
    "        avg=sum(gray[i])/len(gray[i])\n",
    "        avglist.append(avg)\n",
    "    return avglist\n",
    "\n",
    "# 像素值纵向特征\n",
    "def getdiff1(img):\n",
    "    Sidelength=300\n",
    "    img=cv2.resize(img,(Sidelength,Sidelength),interpolation=cv2.INTER_CUBIC)\n",
    "    gray=cv2.cvtColor(img,cv2.COLOR_BGR2GRAY)\n",
    "    gray = gray.T\n",
    "    avglist=[]\n",
    "    for i in range(Sidelength):\n",
    "        avg=sum(gray[i])/len(gray[i])\n",
    "        avglist.append(avg)\n",
    "    return avglist\n",
    "\n",
    "# 局部特征\n",
    "def get_part_diff(image):\n",
    "    Sidelength=300\n",
    "    img = image[:,280:-150,:]\n",
    "    img=cv2.resize(img,(Sidelength,Sidelength),interpolation=cv2.INTER_CUBIC)\n",
    "    gray=cv2.cvtColor(img,cv2.COLOR_BGR2GRAY)\n",
    "    gray = gray.T\n",
    "    avglist=[]\n",
    "    for i in range(Sidelength):\n",
    "        avg=sum(gray[i])/len(gray[i])\n",
    "        avglist.append(avg)\n",
    "    return avglist\n",
    "\n",
    "n = len(os.listdir('C:\\\\Users\\\\D\\\\Desktop\\\\line23'))\n",
    "for i in range(0,n):\n",
    "    img=cv2.imread('C:\\\\Users\\\\D\\\\Desktop\\\\line23\\\\{}.png'.format(i))\n",
    "    diff=getdiff(img)\n",
    "    diff1=get_part_diff(img)\n",
    "    if i == 0:\n",
    "        x = np.array([getss(diff),get_minindex(diff1)])\n",
    "    else:\n",
    "        x = np.row_stack((x,[getss(diff),get_minindex(diff1)]))"
   ]
  },
  {
   "cell_type": "code",
   "execution_count": 33,
   "metadata": {
    "collapsed": true
   },
   "outputs": [],
   "source": [
    "# 提取局部特征\n",
    "# img1=cv2.imread('C:\\\\Users\\\\D\\\\Desktop\\\\line32\\\\{}.png'.format(2))\n",
    "# a = img1[:,280:-150,:]\n",
    "# cv2.imshow('a',a)\n",
    "# cv2.waitKey(0)\n",
    "# cv2.destroyAllWindows()"
   ]
  },
  {
   "cell_type": "markdown",
   "metadata": {},
   "source": [
    "# 原理解释"
   ]
  },
  {
   "cell_type": "code",
   "execution_count": 23,
   "metadata": {
    "collapsed": true
   },
   "outputs": [],
   "source": [
    "img=cv2.imread('C:\\\\Users\\\\D\\\\Desktop\\\\line32\\\\{}.png'.format(0))\n",
    "img=cv2.resize(img,(30,30),interpolation=cv2.INTER_CUBIC)\n",
    "img1=cv2.imread('C:\\\\Users\\\\D\\\\Desktop\\\\line32\\\\{}.png'.format(1))\n",
    "img1=cv2.resize(img1,(30,30),interpolation=cv2.INTER_CUBIC)"
   ]
  },
  {
   "cell_type": "code",
   "execution_count": 26,
   "metadata": {
    "collapsed": true
   },
   "outputs": [],
   "source": [
    "a = getdiff(img)\n",
    "b = getdiff(img1)"
   ]
  },
  {
   "cell_type": "code",
   "execution_count": 28,
   "metadata": {},
   "outputs": [
    {
     "data": {
      "text/plain": [
       "<matplotlib.legend.Legend at 0x2879fd87d30>"
      ]
     },
     "execution_count": 28,
     "metadata": {},
     "output_type": "execute_result"
    },
    {
     "data": {
      "image/png": "[encoded data removed]",
      "text/plain": [
       "<matplotlib.figure.Figure at 0x2879fd17630>"
      ]
     },
     "metadata": {},
     "output_type": "display_data"
    }
   ],
   "source": [
    "%matplotlib inline\n",
    "plt.rcParams['font.sans-serif']=['SimHei'] \n",
    "plt.rcParams['axes.unicode_minus']=False \n",
    "plt.xlabel(u'图片横向位置')\n",
    "plt.ylabel(u'像素均值')\n",
    "plt.title(u'像素值折线图比较（相似图片）')\n",
    "plt.plot(a,label = 'picture1')\n",
    "plt.plot(b,label = 'picture3')\n",
    "plt.legend()"
   ]
  },
  {
   "cell_type": "markdown",
   "metadata": {},
   "source": [
    "# 聚类算法"
   ]
  },
  {
   "cell_type": "code",
   "execution_count": 4,
   "metadata": {},
   "outputs": [
    {
     "name": "stdout",
     "output_type": "stream",
     "text": [
      "1098\n"
     ]
    }
   ],
   "source": [
    "n_sample = n\n",
    "n_clusters = 8\n",
    "print(n_sample)"
   ]
  },
  {
   "cell_type": "code",
   "execution_count": 21,
   "metadata": {
    "collapsed": true
   },
   "outputs": [],
   "source": [
    "y_pred = KMeans(n_clusters=n_clusters).fit_predict(x)"
   ]
  },
  {
   "cell_type": "code",
   "execution_count": 22,
   "metadata": {},
   "outputs": [
    {
     "data": {
      "text/plain": [
       "<matplotlib.collections.PathCollection at 0x275bf7bb438>"
      ]
     },
     "execution_count": 22,
     "metadata": {},
     "output_type": "execute_result"
    },
    {
     "data": {
      "image/png": "[encoded data removed]",
      "text/plain": [
       "<matplotlib.figure.Figure at 0x275c06aeef0>"
      ]
     },
     "metadata": {},
     "output_type": "display_data"
    }
   ],
   "source": [
    "%matplotlib inline\n",
    "plt.style.use('ggplot')\n",
    "plt.rcParams['font.sans-serif']=['SimHei'] \n",
    "plt.rcParams['axes.unicode_minus']=False \n",
    "plt.figure(figsize=(6,4), dpi=100)\n",
    "plt.xlabel(u'像素值方差')\n",
    "plt.ylabel(u'局部像素值最小处位置')\n",
    "plt.title(u'k-means聚类结果(嘉定到四平)')\n",
    "plt.scatter(x[:,0],x[:,1],c =y_pred)"
   ]
  },
  {
   "cell_type": "markdown",
   "metadata": {},
   "source": [
    "# 图片分类并为每一次行程标号"
   ]
  },
  {
   "cell_type": "code",
   "execution_count": 7,
   "metadata": {
    "collapsed": true
   },
   "outputs": [],
   "source": [
    "# 构造分类文件夹\n",
    "for i in range(0,10):\n",
    "#     shutil.rmtree('C:\\\\Users\\\\D\\\\Desktop\\\\{}\\\\'.format(i))\n",
    "    os.mkdir('C:\\\\Users\\\\D\\\\Desktop\\\\{}\\\\'.format(i))"
   ]
  },
  {
   "cell_type": "code",
   "execution_count": 10,
   "metadata": {
    "collapsed": true
   },
   "outputs": [],
   "source": [
    "# 图片归类到文件夹\n",
    "for i in range(0,1098):\n",
    "    label = y_pred[i]\n",
    "    shutil.copy('C:\\\\Users\\\\D\\\\Desktop\\\\line32\\\\{}.png'.format(i),'C:\\\\Users\\\\D\\\\Desktop\\\\{}\\\\'.format(label))"
   ]
  },
  {
   "cell_type": "code",
   "execution_count": 88,
   "metadata": {
    "collapsed": true
   },
   "outputs": [],
   "source": [
    "# 为每一次行程标号\n",
    "labels = os.listdir('C:\\\\Users\\\\D\\\\Desktop\\\\23\\\\')\n",
    "\n",
    "dic={}\n",
    "for label in labels:\n",
    "    path = 'C:\\\\Users\\\\D\\\\Desktop\\\\23\\\\' + label\n",
    "    nos = list(map(lambda x:x.replace('.png','') ,os.listdir(path)))\n",
    "    nos = list(map(int, nos))\n",
    "    dic[label] = nos"
   ]
  },
  {
   "cell_type": "code",
   "execution_count": null,
   "metadata": {
    "collapsed": true
   },
   "outputs": [],
   "source": []
  }
 ],
 "metadata": {
  "kernelspec": {
   "display_name": "Python 3",
   "language": "python",
   "name": "python3"
  },
  "language_info": {
   "codemirror_mode": {
    "name": "ipython",
    "version": 3
   },
   "file_extension": ".py",
   "mimetype": "text/x-python",
   "name": "python",
   "nbconvert_exporter": "python",
   "pygments_lexer": "ipython3",
   "version": "3.6.1"
  }
 },
 "nbformat": 4,
 "nbformat_minor": 2
}
