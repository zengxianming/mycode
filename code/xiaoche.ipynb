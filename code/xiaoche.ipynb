{
 "cells": [
  {
   "cell_type": "markdown",
   "metadata": {},
   "source": [
    "# 校车行程时间数据挖掘"
   ]
  },
  {
   "cell_type": "markdown",
   "metadata": {},
   "source": [
    "- openstreetmap下载同济大学嘉定校区、同济大学沪西校区，同济大学四平校区路网数据\n",
    "- arcgis建立块和缓冲区\n",
    "- 利用arcpy，判断是否进入到小区内部\n",
    "- 计算一次出行的行程时间\n",
    "- ...数据挖掘，统计信息分析"
   ]
  },
  {
   "cell_type": "code",
   "execution_count": null,
   "metadata": {},
   "outputs": [],
   "source": [
    "%pylab\n",
    "%matplotlib inline\n",
    "import pandas as pd\n",
    "import seaborn as sns\n",
    "import re\n",
    "import os\n",
    "sns.set()"
   ]
  },
  {
   "cell_type": "markdown",
   "metadata": {},
   "source": [
    "## 1. 数据初始处理\n",
    "- 文件中的中文词汇影响读取 改名\n",
    "- 检查原始数据文件列名 统一格式\n",
    "- 更改日期时间格式 便于筛选"
   ]
  },
  {
   "cell_type": "code",
   "execution_count": null,
   "metadata": {},
   "outputs": [],
   "source": [
    "# remove Chinese words\n",
    "path = 'C:\\\\Users\\\\D\\\\Desktop\\\\banche\\\\'\n",
    "for name in os.listdir(path):\n",
    "    os.rename(path+name, path + name[1:])\n",
    "os.listdir(path)"
   ]
  },
  {
   "cell_type": "code",
   "execution_count": null,
   "metadata": {},
   "outputs": [],
   "source": [
    "for i in os.listdir(path):\n",
    "    df = pd.read_csv(path + i, encoding='gbk')\n",
    "    print(df.columns)"
   ]
  },
  {
   "cell_type": "markdown",
   "metadata": {},
   "source": [
    "**<big>原始数据 'D05057 2.csv' 文件 year 列名后面加了个空格！！！</big>**"
   ]
  },
  {
   "cell_type": "code",
   "execution_count": null,
   "metadata": {
    "collapsed": true
   },
   "outputs": [],
   "source": [
    "# 日期时间格式处理\n",
    "# 时间统一改成24小时制\n",
    "# 日期改成yyyymmdd\n",
    "\n",
    "\n",
    "def df_add_time(df):\n",
    "    df = df[['UID', 'rectime', 'year', 'date1', 'time', 'time1', 'speed','longitude', 'latitude', 'location', 'LID']]\n",
    "    # 处理日期\n",
    "    def f(x):\n",
    "        sp = x.split('/')\n",
    "        y = sp[-1]\n",
    "        m = sp[0]\n",
    "        d = sp[1]\n",
    "        if len(m)==1:\n",
    "            m = '0'+ m\n",
    "        if len(d)==1:\n",
    "            d = '0' + d\n",
    "        return int(y+m+d)\n",
    "    df['rdate'] = df.rectime.apply(f)\n",
    "    # 处理时间\n",
    "    def f(x):\n",
    "        sp = re.split(':| ',x)\n",
    "        h = sp[0]\n",
    "        m = sp[1]\n",
    "        s = sp[2]\n",
    "        if sp[3] == 'PM':\n",
    "            if not int(h) == 12:\n",
    "                h = str(int(h) + 12)\n",
    "        else :\n",
    "            if int(h) == 12:\n",
    "                h = str(int(h) - 12)\n",
    "        return int(h + m+ s)\n",
    "    df['rtime'] = df.time.apply(f)\n",
    "    df = df.drop(labels=['time1','date1','UID'],axis=1)\n",
    "    return df"
   ]
  },
  {
   "cell_type": "code",
   "execution_count": null,
   "metadata": {},
   "outputs": [],
   "source": [
    "for i in os.listdir(path):\n",
    "    df = pd.read_csv(path + i, encoding='gbk')\n",
    "    df = df_add_time(df)\n",
    "    df.to_csv('C:\\\\Users\\\\D\\\\Desktop\\\\banche1\\\\' + i, encoding='gbk', index=False)"
   ]
  },
  {
   "cell_type": "markdown",
   "metadata": {},
   "source": [
    "## 2. 数据理解"
   ]
  },
  {
   "cell_type": "code",
   "execution_count": null,
   "metadata": {},
   "outputs": [],
   "source": [
    "print(df.rdate.unique())\n",
    "print(len(df.rdate.unique()))"
   ]
  },
  {
   "cell_type": "markdown",
   "metadata": {},
   "source": [
    "日期117个"
   ]
  },
  {
   "cell_type": "code",
   "execution_count": null,
   "metadata": {},
   "outputs": [],
   "source": [
    "df.LID.unique()"
   ]
  },
  {
   "cell_type": "markdown",
   "metadata": {},
   "source": [
    "1 - 沪西校区\n",
    "2 - 嘉定校区\n",
    "3 - 四平校区\n",
    "4 - 曹杨新村\n",
    "<b>位置是否反编码得到，如果仅仅临近校区内是否就有比较大的误差？"
   ]
  },
  {
   "cell_type": "code",
   "execution_count": null,
   "metadata": {},
   "outputs": [],
   "source": [
    "plot(df[df.rdate == 20170919].rtime)"
   ]
  },
  {
   "cell_type": "markdown",
   "metadata": {},
   "source": [
    "- 基本每隔十秒回传一个数据\n",
    "- 如果车辆停止，那么会每隔一个小时回传一个数据"
   ]
  },
  {
   "cell_type": "markdown",
   "metadata": {},
   "source": [
    "## 3. 统计行程时间信息"
   ]
  },
  {
   "cell_type": "markdown",
   "metadata": {},
   "source": [
    "统计思路：\n",
    "1. 按日期做循环，统计一天内的出行次数\n",
    "2. 如果连续有60个数据的lid为0，也就是10分钟左右不在学校，那么作为一次出行\n",
    "    - 实际处理中可能由于途径沪西校区或者曹阳新村，会是一次出行打断，处理方法是判断两次较大时长出行的首尾数据是否临近，取阀值为30个位置，也即5分钟左右，临近的话合并为一次出行\n",
    "3. 记录这次出行的起点位置index，终点位置index\n",
    "4. 起终点index分别向上下加减一 ，直到找到一条位置在同济大学校区内且速度为0的数据\n",
    "    - 如果在一天的数据中找不到头和尾，那么就把头和尾数据记为空值\n",
    "5. 取4中找到数据的时间位置分别作为开始时间，开始位置，结束时间，结束位置\n",
    "    - 为了检查异常数据，顺便记录下来在找到的数据在原始数据中的位置\n",
    "\n",
    "\n",
    "目标表格列名   \n",
    "- 基本数据\n",
    "    - 车牌    id\n",
    "    - 日期    date\n",
    "    - 开始时间   start_time\n",
    "    - 到达时间   end_time\n",
    "    - 出发地点   start_lid\n",
    "    - 到达地点   end_lid\n",
    "    - 途经曹阳   caoyang\n",
    "- 拓展数据\n",
    "    - 线路\n",
    "    - 总行程时间\n",
    "    - 如何找到一次行程的全体轨迹数据？\n",
    "        - id\n",
    "        - date\n",
    "        - index  "
   ]
  },
  {
   "cell_type": "code",
   "execution_count": null,
   "metadata": {
    "scrolled": false
   },
   "outputs": [],
   "source": [
    "new_path = 'C:\\\\Users\\\\D\\\\Desktop\\\\banche1\\\\'\n",
    "for name in os.listdir(new_path):\n",
    "    df = pd.read_csv(new_path + name, encoding='gbk')\n",
    "    print(df[:1])"
   ]
  },
  {
   "cell_type": "code",
   "execution_count": null,
   "metadata": {
    "collapsed": true
   },
   "outputs": [],
   "source": [
    "# find_path v1版本\n",
    "def find_path(df, name):\n",
    "    Dic = {'date':[],'start_time':[],'start_lid':[],'end_time':[],'end_lid':[],'caoyang':[]}\n",
    "    dates = df.rdate.unique()\n",
    "    for date in dates:\n",
    "        m = df[df.rdate == date]\n",
    "        m = m.reset_index()\n",
    "        lid = array(m.LID.tolist())\n",
    "        trip = np.where(lid==0)[0]\n",
    "\n",
    "\n",
    "        # 得到一天的出行次数\n",
    "        from itertools import groupby\n",
    "        dic = {}\n",
    "        last_index = -1000\n",
    "        fun = lambda x: x[1] - x[0]\n",
    "        for key, group in groupby(enumerate(trip), fun):\n",
    "            lst = [v for i,v in group]\n",
    "            if len(lst)>30: \n",
    "                if lst[0] - last_index < 30:\n",
    "                    dic[last_key].extend(lst)\n",
    "                else:\n",
    "                    dic[key] = lst\n",
    "                    last_key = key\n",
    "                    last_index = lst[-1]\n",
    "\n",
    "\n",
    "        # 画图为了后续检验比较纠错有几条明显折线就有几次出行\n",
    "        figure(figsize=(6,6))\n",
    "        axis('off')\n",
    "        plot(trip)\n",
    "        plt.savefig('F:\\\\xiaochefig\\\\{}-{}-{}.jpg'.format(name, date, len(dic)))\n",
    "        \n",
    "        \n",
    "        # 找到对应起终点路径\n",
    "        # 出发到达时间 出发到达位置 是否经过曹阳\n",
    "        for key in dic.keys():\n",
    "            start_index = dic[key][0]\n",
    "            end_index = dic[key][-1]\n",
    "            while 1:\n",
    "                if m.loc[start_index].speed == 0 and m.loc[start_index].LID in [1,2,3]:\n",
    "                    start_time = m.loc[start_index].rtime\n",
    "                    start_lid = m.loc[start_index].LID\n",
    "                    break\n",
    "                else:\n",
    "                    start_index = start_index - 1\n",
    "                    if start_index <= 0:\n",
    "                        start_time = NaN\n",
    "                        start_lid = NaN\n",
    "                        print(\"_________something wrong in start!______\")\n",
    "                        print(m.loc[dic[key][0]])\n",
    "                        print(\"________________________________________\")\n",
    "                        break\n",
    "            while 1:\n",
    "                if m.loc[end_index].speed == 0 and m.loc[end_index].LID in [1,2,3]:\n",
    "                    end_time = m.loc[end_index].rtime\n",
    "                    end_lid = m.loc[end_index].LID\n",
    "                    break\n",
    "                else:\n",
    "                    end_index = end_index + 1\n",
    "                    if end_index >= len(m):\n",
    "                        end_time = NaN\n",
    "                        end_lid = NaN\n",
    "                        print(\"_________something wrong in end!______\")\n",
    "                        print(m.loc[dic[key][0]])\n",
    "                        print(\"______________________________________\")\n",
    "                        break\n",
    "            caoyang = 1 if 4 in m.loc[start_index:end_index].LID.unique() else 0\n",
    "            Dic['date'].append(date)\n",
    "            Dic['start_time'].append(start_time)\n",
    "            Dic['start_lid'].append(start_lid)\n",
    "            Dic['end_time'].append(end_time)\n",
    "            Dic['end_lid'].append(end_lid)\n",
    "            Dic['caoyang'].append(caoyang)\n",
    "    return Dic"
   ]
  },
  {
   "cell_type": "code",
   "execution_count": null,
   "metadata": {
    "collapsed": true
   },
   "outputs": [],
   "source": [
    "# find_path v2版本\n",
    "# 增添了原始数据位置信息\n",
    "# 增添了异常信息的记录\n",
    "def find_path(df, name):\n",
    "    error_log = ''\n",
    "    Dic = {'start_index': [], 'end_index': [], 'date': [], 'start_time': [], 'start_lid': [], 'end_time': [],\n",
    "           'end_lid': [], 'caoyang': []}\n",
    "    dates = df.rdate.unique()\n",
    "    for date in dates:\n",
    "        m = df[df.rdate == date]\n",
    "        m = m.reset_index()\n",
    "        lid = array(m.LID.tolist())\n",
    "        trip = np.where(lid == 0)[0]\n",
    "\n",
    "        # 得到一天的出行次数\n",
    "        from itertools import groupby\n",
    "        dic = {}\n",
    "        last_index = -1000\n",
    "        fun = lambda x: x[1] - x[0]\n",
    "        for key, group in groupby(enumerate(trip), fun):\n",
    "            lst = [v for i, v in group]\n",
    "            if len(lst) > 60:\n",
    "                if lst[0] - last_index < 30:\n",
    "                    dic[last_key].extend(lst)\n",
    "                else:\n",
    "                    dic[key] = lst\n",
    "                    last_key = key\n",
    "                    last_index = lst[-1]\n",
    "\n",
    "        # 画图为了后续检验比较纠错有几条明显折线就有几次出行\n",
    "        figure(figsize=(6, 6))\n",
    "        axis('off')\n",
    "        plot(trip)\n",
    "        savefig('F:\\\\xiaochefig\\\\{}-{}-{}.jpg'.format(name[0:-4], date, len(dic)))\n",
    "\n",
    "        # 找到对应起终点路径\n",
    "        # 出发到达时间 出发到达位置 是否经过曹阳\n",
    "        for key in dic.keys():\n",
    "            start_index = dic[key][0]\n",
    "            end_index = dic[key][-1]\n",
    "            while 1:\n",
    "                if m.loc[start_index].speed == 0 and m.loc[start_index].LID in [1, 2, 3]:\n",
    "                    start_time = m.loc[start_index].rtime\n",
    "                    start_lid = m.loc[start_index].LID\n",
    "                    break\n",
    "                else:\n",
    "                    start_index = start_index - 1\n",
    "                    if start_index <= 0:\n",
    "                        start_time = NaN\n",
    "                        start_lid = NaN\n",
    "                        print(\"_________something wrong in start!______\")\n",
    "                        print(m.loc[dic[key][0]])\n",
    "                        print(\"________________________________________\")\n",
    "                        error_log = error_log + '_________something wrong in start!______\\n'\n",
    "                        error_log = error_log + 'chepai: {}\\n'.format(name[0:-4])\n",
    "                        error_log = error_log + str(m.loc[dic[key][0]]) + '\\n'\n",
    "                        error_log = error_log + '________________________________________\\n'\n",
    "                        break\n",
    "            while 1:\n",
    "                if m.loc[end_index].speed == 0 and m.loc[end_index].LID in [1, 2, 3]:\n",
    "                    end_time = m.loc[end_index].rtime\n",
    "                    end_lid = m.loc[end_index].LID\n",
    "                    break\n",
    "                else:\n",
    "                    end_index = end_index + 1\n",
    "                    if end_index >= len(m):\n",
    "                        end_time = NaN\n",
    "                        end_lid = NaN\n",
    "                        print(\"_________something wrong in end!______\")\n",
    "                        print(m.loc[dic[key][0]])\n",
    "                        print(\"______________________________________\")\n",
    "                        error_log = error_log + '_________something wrong in end!______\\n'\n",
    "                        error_log = error_log + 'chepai: {}\\n'.format(name[0:-4])\n",
    "                        error_log = error_log + str(m.loc[dic[key][-1]]) + '\\n'\n",
    "                        error_log = error_log + '________________________________________\\n'\n",
    "                        break\n",
    "            caoyang = 1 if 4 in m.loc[start_index:end_index].LID.unique() else 0\n",
    "            Dic['start_index'].append(m.loc[dic[key][0]]['index'])\n",
    "            Dic['end_index'].append(m.loc[dic[key][-1]]['index'])\n",
    "            Dic['date'].append(date)\n",
    "            Dic['start_time'].append(start_time)\n",
    "            Dic['start_lid'].append(start_lid)\n",
    "            Dic['end_time'].append(end_time)\n",
    "            Dic['end_lid'].append(end_lid)\n",
    "            Dic['caoyang'].append(caoyang)\n",
    "    return Dic, error_log"
   ]
  },
  {
   "cell_type": "code",
   "execution_count": null,
   "metadata": {},
   "outputs": [],
   "source": [
    "# test code\n",
    "Dic = find_path(df,'test')"
   ]
  },
  {
   "cell_type": "code",
   "execution_count": null,
   "metadata": {},
   "outputs": [],
   "source": [
    "# 统计行程时间信息和错误日志\n",
    "with open('C:\\\\Users\\\\D\\\\Desktop\\\\log.txt', 'w') as f:\n",
    "    new_path = 'C:\\\\Users\\\\D\\\\Desktop\\\\banche1\\\\'\n",
    "    for name in os.listdir(new_path):\n",
    "        df = pd.read_csv(new_path + name, encoding='gbk')\n",
    "        Dic, error_log = find_path(df, name)\n",
    "        info = pd.DataFrame(Dic)\n",
    "        info['id'] = name[0:-4]\n",
    "        info = info[\n",
    "            ['id', 'date', 'start_index', 'end_index', 'start_time', 'start_lid', 'end_time', 'end_lid', 'caoyang']]\n",
    "        info.to_csv('F:\\\\info\\\\{}.csv'.format(name), index=False)\n",
    "        f.write(error_log)"
   ]
  },
  {
   "cell_type": "markdown",
   "metadata": {},
   "source": [
    "## 4. 异常数据寻因"
   ]
  },
  {
   "cell_type": "markdown",
   "metadata": {},
   "source": [
    "结论  \n",
    "一些不符合逻辑的数据\n",
    "- 四平校区到嘉定校区总是会经过沪西校区不停，带来一些行程的断开\n",
    "- 出去加了个油又回到之前的校区了\n",
    "- 沪DG6217 2 的车行日期较少，带来结果偏少\n",
    "- 中途才开GPS，出发时刻不确定，无法与时刻表对应D03923 [1086:1216]"
   ]
  },
  {
   "cell_type": "code",
   "execution_count": null,
   "metadata": {},
   "outputs": [],
   "source": [
    "m = df[df.rdate==20171111]\n",
    "m = m.reset_index()\n",
    "m"
   ]
  },
  {
   "cell_type": "code",
   "execution_count": null,
   "metadata": {},
   "outputs": [],
   "source": [
    "for key in dic.keys():\n",
    "    start_index = dic[key][0]\n",
    "    end_index = dic[key][-1]\n",
    "    print(start_index,end_index)"
   ]
  },
  {
   "cell_type": "code",
   "execution_count": null,
   "metadata": {
    "collapsed": true
   },
   "outputs": [],
   "source": [
    "m.loc[0:657].to_csv('C:\\\\Users\\\\D\\\\Desktop\\\\wen.csv',encoding='gbk')"
   ]
  },
  {
   "cell_type": "code",
   "execution_count": null,
   "metadata": {
    "collapsed": true
   },
   "outputs": [],
   "source": [
    "with open('C:\\\\Users\\\\D\\\\Desktop\\\\change_loc.txt','w') as f:\n",
    "    for i in last:\n",
    "        f.write(str(i))\n",
    "        f.write('\\n')"
   ]
  },
  {
   "cell_type": "code",
   "execution_count": null,
   "metadata": {},
   "outputs": [],
   "source": [
    "m[150:151]"
   ]
  },
  {
   "cell_type": "code",
   "execution_count": null,
   "metadata": {},
   "outputs": [],
   "source": [
    "s = pd.read_csv('F:\\\\info\\\\D03923 2.csv.csv')"
   ]
  },
  {
   "cell_type": "code",
   "execution_count": null,
   "metadata": {},
   "outputs": [],
   "source": [
    "new_path = 'C:\\\\Users\\\\D\\\\Desktop\\\\banche1\\\\'\n",
    "df = pd.read_csv(new_path + 'D03923 2.csv',encoding = 'gbk')"
   ]
  },
  {
   "cell_type": "code",
   "execution_count": null,
   "metadata": {},
   "outputs": [],
   "source": [
    "m1 = s[(s.start_lid==1)&(s.end_lid==2)]\n",
    "len(m1[(abs(m1.start_time-71000)<500)])"
   ]
  },
  {
   "cell_type": "code",
   "execution_count": null,
   "metadata": {},
   "outputs": [],
   "source": [
    "m1"
   ]
  },
  {
   "cell_type": "code",
   "execution_count": null,
   "metadata": {
    "scrolled": false
   },
   "outputs": [],
   "source": [
    "df.loc[300816:300985]"
   ]
  },
  {
   "cell_type": "markdown",
   "metadata": {},
   "source": [
    "## 5. 行程时间按时刻表分类"
   ]
  },
  {
   "cell_type": "code",
   "execution_count": null,
   "metadata": {},
   "outputs": [],
   "source": [
    "s = os.listdir('C:\\\\Users\\\\D\\\\Desktop\\\\代码处理后数据\\\\')"
   ]
  },
  {
   "cell_type": "code",
   "execution_count": null,
   "metadata": {
    "collapsed": true
   },
   "outputs": [],
   "source": [
    "code_route = [int(i.split('.')[0]) for i in s]"
   ]
  },
  {
   "cell_type": "code",
   "execution_count": null,
   "metadata": {},
   "outputs": [],
   "source": [
    "route = pd.read_excel('C:\\\\Users\\\\D\\\\Desktop\\\\route.xlsx')"
   ]
  },
  {
   "cell_type": "code",
   "execution_count": null,
   "metadata": {},
   "outputs": [],
   "source": [
    "real_route = route.no.tolist()"
   ]
  },
  {
   "cell_type": "code",
   "execution_count": null,
   "metadata": {},
   "outputs": [],
   "source": [
    "[i for i in code_route if i not in real_route]"
   ]
  },
  {
   "cell_type": "code",
   "execution_count": null,
   "metadata": {},
   "outputs": [],
   "source": [
    "[i for i in real_route if i not in code_route]"
   ]
  },
  {
   "cell_type": "code",
   "execution_count": null,
   "metadata": {},
   "outputs": [],
   "source": [
    "import datetime\n",
    "for i in s:\n",
    "    code = pd.read_csv(u'C:\\\\Users\\\\D\\\\Desktop\\\\codedata\\\\{}'.format(i))\n",
    "    if len(code.columns)>9:\n",
    "        continue\n",
    "    code.columns = ['Unnamed', 'id', 'ID', 'ST', 'AT', 'DT', 'LO', 'RO', 'TT']\n",
    "    code = code[['id', 'ID', 'ST', 'AT', 'DT', 'LO', 'RO', 'TT']]\n",
    "\n",
    "    def fun(x):\n",
    "        if x > 40:\n",
    "            time = datetime.datetime(2017, 1, 1) + datetime.timedelta(x-1)\n",
    "        else:\n",
    "            time = datetime.datetime(2018, 1, 1) + datetime.timedelta(x-1)\n",
    "        return time\n",
    "    code['dt'] = code.DT.apply(fun)\n",
    "    \n",
    "    def fun(x):\n",
    "        s = x%3600%60\n",
    "        m = (x%3600 - s)/60\n",
    "        h = (x - x%3600)/3600\n",
    "        return \"{}:{}:{}\".format(int(h),int(m),int(s))\n",
    "    code['st'] = code.ST.apply(fun)\n",
    "    code['at'] = code.AT.apply(fun)\n",
    "    code['tt'] = code.TT.apply(fun)\n",
    "    code.to_csv(u'C:\\\\Users\\\\D\\\\Desktop\\\\codedata\\\\{}'.format(i),index=False)"
   ]
  },
  {
   "cell_type": "code",
   "execution_count": null,
   "metadata": {},
   "outputs": [],
   "source": [
    "def fun1(x):\n",
    "    if isnan(x):\n",
    "        return NaN\n",
    "    else:\n",
    "        x = int(x)\n",
    "        h = x//10000\n",
    "        m = (x - 10000*h)//100\n",
    "        s = x%100\n",
    "    return h*3600 + m*60 + s\n",
    "def fun2(x):\n",
    "    if isnan(x):\n",
    "        return NaN\n",
    "    else:\n",
    "        s = x%3600%60\n",
    "        m = (x%3600 - s)/60\n",
    "        h = (x - x%3600)/3600\n",
    "        return \"{}:{}:{}\".format(int(h),int(m),int(s))\n",
    "for i in os.listdir(\"C:\\\\Users\\\\D\\\\Desktop\\\\info\\\\\"):\n",
    "    path = \"C:\\\\Users\\\\D\\\\Desktop\\\\info\\\\\" + i\n",
    "    info = pd.read_csv(path)\n",
    "    info['total_time'] = info.end_time.apply(fun1) - info.start_time.apply(fun1)\n",
    "    info['total_time_format'] = info.total_time.apply(fun2) \n",
    "    info.to_csv(path,index=False)"
   ]
  },
  {
   "cell_type": "code",
   "execution_count": null,
   "metadata": {},
   "outputs": [],
   "source": [
    "result = pd.DataFrame()\n",
    "for i in os.listdir(\"C:\\\\Users\\\\D\\\\Desktop\\\\info\\\\\"):\n",
    "    path = \"C:\\\\Users\\\\D\\\\Desktop\\\\info\\\\\" + i\n",
    "    info = pd.read_csv(path)\n",
    "    find = info[(abs(info.start_time - 124500))<500]\n",
    "    find = find[(find.start_lid == 1)&(find.end_lid == 2)]\n",
    "    result = pd.concat([result,find])\n",
    "result"
   ]
  },
  {
   "cell_type": "code",
   "execution_count": null,
   "metadata": {},
   "outputs": [],
   "source": [
    "# 一般route\n",
    "def fun1(x):\n",
    "    if isnan(x):\n",
    "        return NaN\n",
    "    else:\n",
    "        x = int(x)\n",
    "        h = x//10000\n",
    "        m = (x - 10000*h)//100\n",
    "        s = x%100\n",
    "    return h*3600 + m*60 + s\n",
    "for i in range(0,len(route)):\n",
    "    result = pd.DataFrame()\n",
    "    no = route.loc[i]['code_no']\n",
    "    t = route.loc[i]['time']\n",
    "    slid = route.loc[i]['slid']\n",
    "    elid = route.loc[i]['elid']\n",
    "    if slid == 0:\n",
    "        continue\n",
    "    for name in os.listdir(\"C:\\\\Users\\\\D\\\\Desktop\\\\info\\\\\"):\n",
    "        path = \"C:\\\\Users\\\\D\\\\Desktop\\\\info\\\\\" + name\n",
    "        info = pd.read_csv(path)\n",
    "        find = info[abs(info.start_time.apply(fun1) - route.loc[i]['time'].hour*3600 - route.loc[i]['time'].minute*60)<=300]\n",
    "        find = find[(find.start_lid == slid)&(find.end_lid == elid)]\n",
    "        result = pd.concat([result,find])\n",
    "    result.to_csv(\"C:\\\\Users\\\\D\\\\Desktop\\\\route\\\\{}.csv\".format(no),index=False)"
   ]
  },
  {
   "cell_type": "code",
   "execution_count": null,
   "metadata": {},
   "outputs": [],
   "source": [
    "# 特殊route\n",
    "result = pd.DataFrame()\n",
    "no = 2312\n",
    "t = datetime.time(8,0)\n",
    "slid = 2\n",
    "elid = 3\n",
    "for name in os.listdir(\"C:\\\\Users\\\\D\\\\Desktop\\\\info\\\\\"):\n",
    "    path = \"C:\\\\Users\\\\D\\\\Desktop\\\\info\\\\\" + name\n",
    "    info = pd.read_csv(path)\n",
    "    find = info[abs(info.start_time.apply(fun1) - t.hour*3600 - t.minute*60)<=300]\n",
    "    find = find[(find.start_lid == slid)&(find.end_lid == elid)]\n",
    "    find = find[find.caoyang == 1]\n",
    "    result = pd.concat([result,find])\n",
    "result.to_csv(\"C:\\\\Users\\\\D\\\\Desktop\\\\route\\\\{}.csv\".format(no),index=False)"
   ]
  },
  {
   "cell_type": "code",
   "execution_count": null,
   "metadata": {},
   "outputs": [],
   "source": [
    "# 特殊route\n",
    "result = pd.DataFrame()\n",
    "no = 323\n",
    "t1 = datetime.time(8,0)\n",
    "t2 = datetime.time(8,45)\n",
    "slid = 3\n",
    "elid = 2\n",
    "for name in os.listdir(\"C:\\\\Users\\\\D\\\\Desktop\\\\info\\\\\"):\n",
    "    path = \"C:\\\\Users\\\\D\\\\Desktop\\\\info\\\\\" + name\n",
    "    info = pd.read_csv(path)\n",
    "    find = info[info.start_time.apply(fun1) - t1.hour*3600 - t1.minute*60 + 300>=0]\n",
    "    find = find[find.start_time.apply(fun1) - t2.hour*3600 - t2.minute*60 - 300<=0]\n",
    "    find = find[(find.start_lid == slid)&(find.end_lid == elid)]\n",
    "    find = find[find.caoyang == 1]\n",
    "    result = pd.concat([result,find])\n",
    "result.to_csv(\"C:\\\\Users\\\\D\\\\Desktop\\\\route\\\\{}.csv\".format(no),index=False)"
   ]
  },
  {
   "cell_type": "code",
   "execution_count": null,
   "metadata": {
    "collapsed": true
   },
   "outputs": [],
   "source": []
  }
 ],
 "metadata": {
  "kernelspec": {
   "display_name": "Python 3",
   "language": "python",
   "name": "python3"
  },
  "language_info": {
   "codemirror_mode": {
    "name": "ipython",
    "version": 3
   },
   "file_extension": ".py",
   "mimetype": "text/x-python",
   "name": "python",
   "nbconvert_exporter": "python",
   "pygments_lexer": "ipython3",
   "version": "3.6.1"
  }
 },
 "nbformat": 4,
 "nbformat_minor": 2
}
